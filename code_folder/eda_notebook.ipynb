{
 "cells": [
  {
   "cell_type": "markdown",
   "metadata": {},
   "source": [
    "## EDA notebook"
   ]
  },
  {
   "cell_type": "code",
   "execution_count": 1,
   "metadata": {},
   "outputs": [],
   "source": [
    "import pandas as pd\n",
    "import numpy as np\n",
    "import data_cleaning as dc\n",
    "import feature_engineering as fe\n",
    "\n",
    "pd.options.display.max_columns = 999\n",
    "pd.options.display.max_rows = 999\n",
    "\n",
    "outcomes = pd.read_csv('https://data.austintexas.gov/api/views/9t4d-g238/rows.csv?accessType=DOWNLOAD')\n",
    "intakes = pd.read_csv('https://data.austintexas.gov/api/views/wter-evkm/rows.csv?accessType=DOWNLOAD')"
   ]
  },
  {
   "cell_type": "code",
   "execution_count": 2,
   "metadata": {},
   "outputs": [],
   "source": [
    "outcomes = dc.prep_outcomes_file(outcomes)\n",
    "intakes = dc.prep_intakes_file(intakes)\n",
    "animal_shelter_df = dc.merge_files(intakes,outcomes)"
   ]
  },
  {
   "cell_type": "markdown",
   "metadata": {},
   "source": [
    "#### `feature_engineering`"
   ]
  },
  {
   "cell_type": "code",
   "execution_count": 3,
   "metadata": {},
   "outputs": [],
   "source": [
    "animal_shelter_df = fe.create_species_var(animal_shelter_df)\n",
    "animal_shelter_df = fe.create_neutered_var(animal_shelter_df)\n",
    "animal_shelter_df = fe.reduce_breed_list(animal_shelter_df)"
   ]
  },
  {
   "cell_type": "code",
   "execution_count": 4,
   "metadata": {},
   "outputs": [],
   "source": [
    "\n",
    "import matplotlib.pyplot as plt\n",
    "from matplotlib.axes._axes import _log as matplotlib_axes_logger\n",
    "from matplotlib.ticker import FuncFormatter\n",
    "import seaborn as sns\n",
    "\n",
    "\n",
    "\n",
    "# System and Image manipulation packages\n",
    "import PIL\n",
    "from PIL import Image\n",
    "import imgkit"
   ]
  },
  {
   "cell_type": "code",
   "execution_count": 5,
   "metadata": {},
   "outputs": [],
   "source": [
    "tb_styles = {'selector': 'table',\n",
    "        'props':[( 'width', '100%')]}\n",
    "\n",
    "th_styles={'selector': 'th',\n",
    "           'props': [('border', \"1\"),\n",
    "                     (\"border-color\", \"black\"),\n",
    "                     ('border-style','solid'),\n",
    "                     ('border-width','1px'),\n",
    "                     ('font-family', 'verdana'),\n",
    "                     ('white-space', 'nowrap'),\n",
    "                     ('width', '75%'),\n",
    "                     (\"text-align\", \"left\")]\n",
    "          }\n",
    "\n",
    "\n",
    "\n",
    "td_styles = {'selector': 'td',\n",
    "             'props': [('font-family', 'verdana'),\n",
    "                       ('border', \"1\"),\n",
    "                       (\"border-color\", \"black\"),\n",
    "                       ('border-style','solid'),\n",
    "                       ('border-width','1px'),\n",
    "                       ('white-space', 'nowrap'),\n",
    "                       ('padding-right',\"10px\"),\n",
    "                      ('padding',\"10px\")]\n",
    "            }\n",
    "\n",
    "cap_style = {'selector':'caption',\n",
    "            'props':[('font-family', 'verdana'),\n",
    "                     ('white-space', 'nowrap'),\n",
    "                    (\"font-size\", \"large\")]}"
   ]
  },
  {
   "cell_type": "code",
   "execution_count": 8,
   "metadata": {},
   "outputs": [
    {
     "name": "stdout",
     "output_type": "stream",
     "text": [
      "../images/test.png\n",
      "Loading page (1/2)\n",
      "Rendering (2/2)                                                    \n",
      "Done                                                               \n"
     ]
    },
    {
     "data": {
      "text/plain": [
       "True"
      ]
     },
     "execution_count": 8,
     "metadata": {},
     "output_type": "execute_result"
    }
   ],
   "source": [
    "test_df =animal_shelter_df.animal_type.value_counts().to_frame()\n",
    "test_df.columns = [\"count\"]\n",
    "\n",
    "improved =test_df.style.set_table_attributes('style=\"border-collapse:collapse\"')\\\n",
    "                 .set_table_styles([tb_styles, th_styles,td_styles,cap_style]).set_caption(\"sample caption\")\n",
    "html = improved.render()\n",
    "path = '../images/test.png'\n",
    "print(path)\n",
    "imgkit.from_string(html, path)"
   ]
  },
  {
   "cell_type": "code",
   "execution_count": 14,
   "metadata": {},
   "outputs": [],
   "source": [
    "im = Image.open(\"../images/test.png\")\n",
    "\n",
    "width, height = im.size \n",
    "new_width = width/3\n",
    "box = (0, 0, new_width, height)\n",
    "cropped_image = im.crop(box)\n",
    "cropped_image.show()\n",
    "cropped_image.save('../images/test.png')"
   ]
  },
  {
   "cell_type": "code",
   "execution_count": null,
   "metadata": {},
   "outputs": [],
   "source": []
  }
 ],
 "metadata": {
  "kernelspec": {
   "display_name": "Python 3",
   "language": "python",
   "name": "python3"
  },
  "language_info": {
   "codemirror_mode": {
    "name": "ipython",
    "version": 3
   },
   "file_extension": ".py",
   "mimetype": "text/x-python",
   "name": "python",
   "nbconvert_exporter": "python",
   "pygments_lexer": "ipython3",
   "version": "3.7.4"
  }
 },
 "nbformat": 4,
 "nbformat_minor": 4
}
