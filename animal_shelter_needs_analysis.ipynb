{
 "cells": [
  {
   "cell_type": "markdown",
   "metadata": {},
   "source": [
    "# Get them adopted\n",
    "\n",
    "![Austin-shelter](http://www.austintexas.gov/sites/default/files/aac_logo.jpg)"
   ]
  },
  {
   "cell_type": "markdown",
   "metadata": {
    "slideshow": {
     "slide_type": "slide"
    }
   },
   "source": [
    "## Business question:\n",
    "\n",
    "Austin, Texas is the largest No Kill community in the nation, and home to the Austin Animal Center. They provide shelter to more than 16,000 animals each year and animal protection and pet resource services to all of Austin and Travis County. Annually over 90% of animals entering the center, are adopted, transferred to rescue or returned to their owners.\n",
    "\n",
    "The Austin Animal Center _also_ has the longest running public dataset of animal rescues in the country. Every animal has a unique id that ties to both their [intake](https://data.austintexas.gov/Health-and-Community-Services/Austin-Animal-Center-Intakes/wter-evkm) and [outcome](https://data.austintexas.gov/Health-and-Community-Services/Austin-Animal-Center-Outcomes/9t4d-g238) data when they enter and leave the shelter. Given their data, my questions of interest were:\n",
    "\n",
    "- What animals need a PR campaign?\n",
    "- What resources does the Animal Center need?\n",
    "\n",
    "Analyzing the Austin Animal Center data to answer these questions will assist their mission an improve operations. "
   ]
  },
  {
   "cell_type": "markdown",
   "metadata": {
    "slideshow": {
     "slide_type": "slide"
    }
   },
   "source": [
    "### Defining \"Needing PR campaign\" as animals that take the longest time to get adopted, or have the fewest transfers to rescue partners.\n",
    "![img](./images/animals.png)\n",
    "\n",
    "\n",
    "### For resources, I chose to focus on factors that would impact **cost** and _staffing_:\n",
    "- breed/specialization of staff\n",
    "- funds for neutering animals\n",
    "- average stay of animals - would impact resources needed (food, cleaning, space)\n",
    "- condition of animals when they enter the shelter\n",
    "- percent of \"special needs\" animals - babies/seniors\n",
    "\n",
    "![img2](./images/pet-resource-center-og.jpg)"
   ]
  },
  {
   "cell_type": "markdown",
   "metadata": {},
   "source": [
    "### Data\n",
    "\n",
    "(need to fill in)\n",
    "- no nas\n",
    "- since 2013\n",
    "- NUMBER OF ANIMALS\n",
    "- SUMMARY OF COLUMNS AND THEIR MEANING"
   ]
  },
  {
   "cell_type": "markdown",
   "metadata": {},
   "source": [
    "### Methods"
   ]
  },
  {
   "cell_type": "markdown",
   "metadata": {},
   "source": [
    "### Import packages and process data\n",
    "\n",
    "`data_cleaning` and `feature_engineering` are packages made to store the functions and code used to prepare the data in seperate namespaces. "
   ]
  },
  {
   "cell_type": "code",
   "execution_count": 112,
   "metadata": {},
   "outputs": [],
   "source": [
    "import pandas as pd\n",
    "import numpy as np\n",
    "import code_folder.data_cleaning as dc\n",
    "import code_folder.feature_engineering as fe\n",
    "import code_folder.visualizations_graphs as viz_g\n",
    "import code_folder.visualizations_tables as viz_t\n",
    "\n",
    "pd.options.display.max_columns = 999\n",
    "pd.options.display.max_rows = 999\n",
    "\n",
    "# %load_ext autoreload\n",
    "# %autoreload 2\n"
   ]
  },
  {
   "cell_type": "code",
   "execution_count": 3,
   "metadata": {},
   "outputs": [],
   "source": [
    "outcomes = pd.read_csv('https://data.austintexas.gov/api/views/9t4d-g238/rows.csv?accessType=DOWNLOAD')\n",
    "intakes = pd.read_csv('https://data.austintexas.gov/api/views/wter-evkm/rows.csv?accessType=DOWNLOAD')"
   ]
  },
  {
   "cell_type": "markdown",
   "metadata": {},
   "source": [
    "#### `data_cleaning`\n",
    "For each intake and outcome file, respectively addresses:\n",
    "- dates not in the correct datetime format\n",
    "- column names have mixed cases and spaces \n",
    "- an age variable that needs to be replaced\n",
    "- unnecessary columns tht can be dropped\n",
    "- create some additional date variables to help merge later\n",
    "\n",
    "Before merging the datasets to create a record for each animal's stay each year. Length of stay can then be created by comparing the intake and outcome dates."
   ]
  },
  {
   "cell_type": "code",
   "execution_count": 4,
   "metadata": {},
   "outputs": [],
   "source": [
    "outcomes = dc.prep_outcomes_file(outcomes)\n",
    "intakes = dc.prep_intakes_file(intakes)\n",
    "animal_shelter_df = dc.merge_files(intakes,outcomes)"
   ]
  },
  {
   "cell_type": "markdown",
   "metadata": {},
   "source": [
    "#### `feature_engineering`"
   ]
  },
  {
   "cell_type": "code",
   "execution_count": 5,
   "metadata": {},
   "outputs": [],
   "source": [
    "animal_shelter_df = fe.create_species_var(animal_shelter_df)\n",
    "animal_shelter_df = fe.create_neutered_var(animal_shelter_df)\n",
    "animal_shelter_df = fe.reduce_breed_list(animal_shelter_df)"
   ]
  },
  {
   "cell_type": "code",
   "execution_count": null,
   "metadata": {},
   "outputs": [],
   "source": [
    "animal_shelter_df.to_csv('./data/cleaned_animal_center_df.csv')"
   ]
  },
  {
   "cell_type": "markdown",
   "metadata": {},
   "source": [
    "#### Create appropriate level of granularity for animal species and breed.\n",
    "\n",
    "Exploritory analysis revealed that the two variables that describe the \"type\" of animal were `animal_type` and `breed`.\n",
    "\n",
    "`animal_type` has five values: Dog, Cat, Bird, Livestock, and Other.\n",
    "\n",
    "While `animal_type`s Cat and Dog were straight forward, \"Other\" appeared to hold a mix of species - both pets and wildlife. \n",
    "\n",
    "Within \"Other\" there is a lot of fuzzy matching within the breed variable.\n",
    "\n",
    "![breeds](./images/breeds_i.png)\n",
    "\n",
    "For example \"Rabbit\" and \"Guinea Pig\" each had repeat entries. To find a middle ground, I created the function `create_species_var` to map and aggregate the `breed` and `intake_type` to provide more insight into the types of animals the shelter services.\n",
    "\n",
    "I then used my function `reduced_breed_list` to remov \"mix\" from many of the cat and dog breeds. This allowed \"Domestic Shorthair Mix\" cats to be counted along with \"Domestic Shorthair\" and the same with \"German Shepard Mix\" being count as a \"German Shepard.\"\n",
    "\n",
    "I've chosen not to analyze livestock, as there are only 12 of them in the dataset."
   ]
  },
  {
   "cell_type": "markdown",
   "metadata": {},
   "source": [
    "#### A deep look at neutering\n",
    "\n",
    "Neutering of animals at the Austin Animal Center is funded by [The City of Austin and Travis County](https://www.austintexas.gov/page/no-kill-plan), but how many neuterings are they doing a month? Is that number increasing  or decreasing? By comparing the variables `sex_upon_intake` and `sex_upon_outcome` for each animal, a change in status from \"intact\" to \"neutered\" reveals the animal was neutered during their stay at the Rescue Center."
   ]
  },
  {
   "cell_type": "markdown",
   "metadata": {
    "slideshow": {
     "slide_type": "slide"
    }
   },
   "source": [
    "#### Revisit our questions\n",
    "\n",
    "- Age of animals in shelter\n",
    "- Average animal length of stay\n",
    "- Medical staff needed"
   ]
  },
  {
   "cell_type": "code",
   "execution_count": 33,
   "metadata": {},
   "outputs": [],
   "source": [
    "## Creates table visualizations\n",
    "viz_t.value_counts_table(animal_shelter_df.species.value_counts().append(pd.Series(animal_shelter_df.shape[0], index=[\"Total\"])), \"Animal Intake since 2013\", \"species_i\")\n",
    "viz_t.value_counts_table(animal_shelter_df.loc[animal_shelter_df.year==2019].species.value_counts().append(pd.Series(animal_shelter_df.loc[animal_shelter_df.year==2019].shape[0], index=[\"Total\"])), \"Animal Intake since 2013\", \"intake_2019\")"
   ]
  },
  {
   "cell_type": "code",
   "execution_count": 34,
   "metadata": {},
   "outputs": [
    {
     "data": {
      "text/plain": [
       "<Figure size 1280x800 with 0 Axes>"
      ]
     },
     "metadata": {},
     "output_type": "display_data"
    },
    {
     "data": {
      "text/plain": [
       "<Figure size 1280x800 with 0 Axes>"
      ]
     },
     "metadata": {},
     "output_type": "display_data"
    },
    {
     "data": {
      "text/plain": [
       "<Figure size 1280x800 with 0 Axes>"
      ]
     },
     "metadata": {},
     "output_type": "display_data"
    },
    {
     "data": {
      "text/plain": [
       "<Figure size 1280x800 with 0 Axes>"
      ]
     },
     "metadata": {},
     "output_type": "display_data"
    }
   ],
   "source": [
    "## Creates time series graohs of intakes by animal species/type\n",
    "\n",
    "# Get intake count of cats and dogs over time\n",
    "summed_df = animal_shelter_df.loc[(animal_shelter_df['species'].str.contains(\"Dog|Cat\"))].groupby([pd.Grouper(key=\"date_i\",freq='1M'), 'species']).count()\\\n",
    "                .reset_index().pivot(index='date_i', columns='species', values='animal_id')\n",
    "viz_g.time_series_plot(summed_df,\"Seasonal Intake patterns of Cats and Dogs\",\"Date by Month\",\"Intake Count\",\"intake_cat_dog\",100)\n",
    "\n",
    "# Get intake count of wildlife over time\n",
    "summed_wildlife = animal_shelter_df.loc[(animal_shelter_df['species'].str.contains(\"Wildlife\"))].groupby([pd.Grouper(key=\"date_i\",freq='1M'), 'species']).count()\\\n",
    "                .reset_index().pivot(index='date_i', columns='species', values='animal_id')\n",
    "viz_g.time_series_plot(summed_wildlife,\"Intake patterns of Wildlife\",\"Date by Month\",\"Intake Count\",'wildlife_count',10)\n",
    "\n",
    "# Get intake count of all others over time\n",
    "summed_df_small_b = animal_shelter_df.loc[(~animal_shelter_df['species'].str.contains(\"Dog|Cat|Wildlife\"))].groupby([pd.Grouper(key=\"date_i\",freq='1M'), 'species']).count()\\\n",
    "                .reset_index().pivot(index='date_i', columns='species', values='animal_id')\n",
    "viz_g.time_series_plot(summed_df_small_b,\"Intake patterns of Animals that aren't Cats or Dogs\",\"Date by Month\",\"Intake Count\",'other_species_count',10)\n",
    "\n",
    "# Highlight history of Chickens, Rabbits, and Guinea Pigs over time\n",
    "summed_df_small_pets = animal_shelter_df.loc[(animal_shelter_df['species'].str.contains(\"Chicken|Rabbit|Guinea\"))].groupby([pd.Grouper(key=\"date_i\",freq='1M'), 'species']).count()\\\n",
    "                .reset_index().pivot(index='date_i', columns='species', values='animal_id')\n",
    "viz_g.time_series_plot(summed_df_small_pets,\"Intake History of Chickens, Rabbits, and Guinea Pigs\",\"Date by Month\",\"Intake Count\",'small_pet_count',5)"
   ]
  },
  {
   "cell_type": "code",
   "execution_count": 60,
   "metadata": {},
   "outputs": [],
   "source": [
    "test = animal_shelter_df.loc[(animal_shelter_df['species'].str.contains(\"Dog|Cat\")) & (animal_shelter_df.neutered ==1)].groupby([pd.Grouper(key=\"date_i\",freq='1M'), 'species']).count()\\\n",
    "                .reset_index().pivot(index='date_i', columns='species', values='animal_id')\n",
    "\n",
    "test.columns = ['Cat_neutered', \"Dog_neutered\"]\n",
    "\n",
    "test2 = pd.concat([summed_df, test], axis=1)\n",
    "\n",
    "test2['percent_cat'] = test2.Cat_neutered/test2.Cat\n",
    "test2['percent_dog'] = test2.Dog_neutered/test2.Dog\n",
    "test2.drop(columns = ['Cat', 'Dog', 'Cat_neutered', 'Dog_neutered'], inplace = True)\n",
    "test2.columns = ['Cat', 'Dog']\n"
   ]
  },
  {
   "cell_type": "code",
   "execution_count": 77,
   "metadata": {},
   "outputs": [
    {
     "data": {
      "text/plain": [
       "<Figure size 1280x800 with 0 Axes>"
      ]
     },
     "metadata": {},
     "output_type": "display_data"
    }
   ],
   "source": [
    "viz_g.time_series_plot_percent(test2,\"History of Percent Neutered at Intake\" ,\"Date by Month\",\"Percent Neutered\",\"neutered_over_time2\", 0.05)"
   ]
  },
  {
   "cell_type": "markdown",
   "metadata": {},
   "source": [
    "## Animal Intake Overall\n",
    "\n",
    "| ![all3](./images/species_i.png) | ![2019a](./images/intake_2019.png)"
   ]
  },
  {
   "cell_type": "markdown",
   "metadata": {},
   "source": [
    "## Animal Intake Trends\n",
    "\n",
    "![one](./images/intake_cat_dog.png) \n",
    "![two](./images/wildlife_count.png)\n",
    "![three](./images/other_species_count.png)\n",
    "\n",
    "\n",
    "### Only non-seasonal pattern\n",
    "![foura](./images/small_pet_count.png)"
   ]
  },
  {
   "cell_type": "markdown",
   "metadata": {},
   "source": [
    "## Neutering patterns\n",
    "\n",
    "![neut](./images/neutered_over_time2.png)"
   ]
  },
  {
   "cell_type": "markdown",
   "metadata": {},
   "source": [
    "## Medical Staffing needs:\n",
    "\n",
    "### Findings: \n",
    "\n",
    "### Intake Patterns:\n",
    "- The intake of cats and dogs seems to have a seasonal pattern that remains relatively constant\n",
    "- Wildlife also seems fairly seasonal, with perhaps a slight downward trend since 2017\n",
    "- For those animals who have seasonal patterns, winter is a low time for all\n",
    "- Rabbits, chickens, and guinea pigs do not appear to have a seasonal patter\n",
    "- Rabbits, chickens, and guinea pigs *do* appear to have sudden spikes\n",
    "\n",
    "### Neutering:\n",
    "- about 30-55% of cats who come in are neutered during their stay\n",
    "- about 40-55% of dogs who come in are neutered during their stay, smaller variance than cats\n",
    "\n",
    "### Comparison of Outcomes for Neutered vs Intact"
   ]
  },
  {
   "cell_type": "code",
   "execution_count": 139,
   "metadata": {},
   "outputs": [],
   "source": [
    "# Get percent intact\n",
    "intact_count = animal_shelter_df.loc[(animal_shelter_df.species.str.contains(\"Dog|Cat\")) & (animal_shelter_df.sex_upon_outcome.str.contains(\"Intact\"))].outcome_type.value_counts(normalize=True).sort_index()\n",
    "intact_count.name = \"percent_intact\"\n",
    "\n",
    "# Get percent neutered\n",
    "neutered_count = animal_shelter_df.loc[(animal_shelter_df.species.str.contains(\"Dog|Cat\"))&(animal_shelter_df.sex_upon_outcome.str.contains(\"Neutered|Spayed\"))].outcome_type.value_counts(normalize=True).sort_index()\n",
    "neutered_count.name = \"percent_neutered\"\n",
    "\n",
    "# Create nice table\n",
    "viz_t.df_table_percents(compare_neuter_outcome, \"Percent Outcome Type for Dogs and Cats \", \"cat_dog_neut_outcomes2\")"
   ]
  },
  {
   "cell_type": "markdown",
   "metadata": {},
   "source": [
    "![catdogneut2](./images/cat_dog_neut_outcomes2.png)"
   ]
  },
  {
   "cell_type": "code",
   "execution_count": 138,
   "metadata": {},
   "outputs": [],
   "source": [
    "# Get percent intact\n",
    "intact_count = animal_shelter_df.loc[(animal_shelter_df.species==\"Dog\") & (animal_shelter_df.sex_upon_outcome.str.contains(\"Intact\"))].outcome_type.value_counts(normalize=True).sort_index()\n",
    "intact_count.name = \"percent_intact\"\n",
    "\n",
    "# Get percent neutered\n",
    "neutered_count = animal_shelter_df.loc[(animal_shelter_df.species==\"Dog\")&(animal_shelter_df.sex_upon_outcome.str.contains(\"Neutered|Spayed\"))].outcome_type.value_counts(normalize=True).sort_index()\n",
    "neutered_count.name = \"percent_neutered\"\n",
    "\n",
    "# Combine into one df\n",
    "compare_neuter_outcome = pd.DataFrame(data={\"Intact\":intact_count,\"Neutered\":neutered_count})\n",
    "\n",
    "# Create nice table\n",
    "viz_t.df_table_percents(compare_neuter_outcome, \"Percent Outcome Type for Dogs\", \"dog_neut_outcomes7\")"
   ]
  },
  {
   "cell_type": "markdown",
   "metadata": {},
   "source": [
    "![dogneu7](./images/dog_neut_outcomes7.png)"
   ]
  },
  {
   "cell_type": "code",
   "execution_count": 140,
   "metadata": {},
   "outputs": [],
   "source": [
    "# Get percent intact\n",
    "intact_count = animal_shelter_df.loc[(animal_shelter_df.species==\"Cat\") & (animal_shelter_df.sex_upon_outcome.str.contains(\"Intact\"))].outcome_type.value_counts(normalize=True).sort_index()\n",
    "intact_count.name = \"percent_intact\"\n",
    "\n",
    "# Get percent neutered\n",
    "neutered_count = animal_shelter_df.loc[(animal_shelter_df.species==\"Cat\")&(animal_shelter_df.sex_upon_outcome.str.contains(\"Neutered|Spayed\"))].outcome_type.value_counts(normalize=True).sort_index()\n",
    "neutered_count.name = \"percent_neutered\"\n",
    "\n",
    "# Combine into one df\n",
    "compare_neuter_outcome = pd.DataFrame(data={\"intact\":intact_count,\"neutered\":neutered_count})\n",
    "\n",
    "# Create nice table\n",
    "viz_t.df_table_percents(compare_neuter_outcome, \"Percent Outcome Type for Cats\", \"cat_neut_outcomes2\")"
   ]
  },
  {
   "cell_type": "markdown",
   "metadata": {},
   "source": [
    "![catneut2](./images/cat_neut_outcomes2.png)"
   ]
  },
  {
   "cell_type": "code",
   "execution_count": 144,
   "metadata": {},
   "outputs": [],
   "source": [
    "test = animal_shelter_df.loc[(animal_shelter_df.species==\"Dog\") &(animal_shelter_df.year==2019) & (animal_shelter_df.outcome_type ==\"Adoption\")]"
   ]
  },
  {
   "cell_type": "code",
   "execution_count": 150,
   "metadata": {},
   "outputs": [],
   "source": [
    "breeds_sub = test.breed.value_counts()[:15]"
   ]
  },
  {
   "cell_type": "code",
   "execution_count": 152,
   "metadata": {},
   "outputs": [],
   "source": [
    "breed_list = breeds_sub.index.to_list()"
   ]
  },
  {
   "cell_type": "code",
   "execution_count": 155,
   "metadata": {
    "collapsed": true,
    "jupyter": {
     "outputs_hidden": true
    }
   },
   "outputs": [
    {
     "data": {
      "text/html": [
       "<div>\n",
       "<style scoped>\n",
       "    .dataframe tbody tr th:only-of-type {\n",
       "        vertical-align: middle;\n",
       "    }\n",
       "\n",
       "    .dataframe tbody tr th {\n",
       "        vertical-align: top;\n",
       "    }\n",
       "\n",
       "    .dataframe thead th {\n",
       "        text-align: right;\n",
       "    }\n",
       "</style>\n",
       "<table border=\"1\" class=\"dataframe\">\n",
       "  <thead>\n",
       "    <tr style=\"text-align: right;\">\n",
       "      <th></th>\n",
       "      <th>age</th>\n",
       "      <th>animal_id</th>\n",
       "      <th>animal_type</th>\n",
       "      <th>breed</th>\n",
       "      <th>color</th>\n",
       "      <th>date_i</th>\n",
       "      <th>date_o</th>\n",
       "      <th>days_in_shelter</th>\n",
       "      <th>dob</th>\n",
       "      <th>found_location</th>\n",
       "      <th>intake_condition</th>\n",
       "      <th>intake_type</th>\n",
       "      <th>month_i</th>\n",
       "      <th>month_o</th>\n",
       "      <th>monthyear</th>\n",
       "      <th>name_intake</th>\n",
       "      <th>name_outcome</th>\n",
       "      <th>outcome_subtype</th>\n",
       "      <th>outcome_type</th>\n",
       "      <th>sex_upon_intake</th>\n",
       "      <th>sex_upon_outcome</th>\n",
       "      <th>weekday_i</th>\n",
       "      <th>weekday_o</th>\n",
       "      <th>year</th>\n",
       "      <th>years_old</th>\n",
       "      <th>species</th>\n",
       "      <th>neutered</th>\n",
       "    </tr>\n",
       "  </thead>\n",
       "  <tbody>\n",
       "    <tr>\n",
       "      <td>22</td>\n",
       "      <td>917 days</td>\n",
       "      <td>A754715</td>\n",
       "      <td>Dog</td>\n",
       "      <td>Labrador Retriever</td>\n",
       "      <td>Black/White</td>\n",
       "      <td>2019-07-29</td>\n",
       "      <td>2019-08-15</td>\n",
       "      <td>17</td>\n",
       "      <td>2017-02-09</td>\n",
       "      <td>Austin (TX)</td>\n",
       "      <td>Normal</td>\n",
       "      <td>Owner Surrender</td>\n",
       "      <td>7</td>\n",
       "      <td>8.0</td>\n",
       "      <td>08/15/2019 01:42:00 PM</td>\n",
       "      <td>Rheia</td>\n",
       "      <td>Rheia</td>\n",
       "      <td>NaN</td>\n",
       "      <td>Adoption</td>\n",
       "      <td>Spayed Female</td>\n",
       "      <td>Spayed Female</td>\n",
       "      <td>0</td>\n",
       "      <td>3.0</td>\n",
       "      <td>2019</td>\n",
       "      <td>2.512329</td>\n",
       "      <td>Dog</td>\n",
       "      <td>0</td>\n",
       "    </tr>\n",
       "    <tr>\n",
       "      <td>73</td>\n",
       "      <td>2801 days</td>\n",
       "      <td>A760116</td>\n",
       "      <td>Dog</td>\n",
       "      <td>German Shepherd</td>\n",
       "      <td>Brown/Black</td>\n",
       "      <td>2019-01-07</td>\n",
       "      <td>2019-01-10</td>\n",
       "      <td>3</td>\n",
       "      <td>2011-05-11</td>\n",
       "      <td>Austin (TX)</td>\n",
       "      <td>Normal</td>\n",
       "      <td>Owner Surrender</td>\n",
       "      <td>1</td>\n",
       "      <td>1.0</td>\n",
       "      <td>01/10/2019 07:20:00 PM</td>\n",
       "      <td>Jasmine</td>\n",
       "      <td>Jasmine</td>\n",
       "      <td>NaN</td>\n",
       "      <td>Adoption</td>\n",
       "      <td>Spayed Female</td>\n",
       "      <td>Spayed Female</td>\n",
       "      <td>0</td>\n",
       "      <td>3.0</td>\n",
       "      <td>2019</td>\n",
       "      <td>7.673973</td>\n",
       "      <td>Dog</td>\n",
       "      <td>0</td>\n",
       "    </tr>\n",
       "    <tr>\n",
       "      <td>74</td>\n",
       "      <td>2831 days</td>\n",
       "      <td>A760116</td>\n",
       "      <td>Dog</td>\n",
       "      <td>German Shepherd</td>\n",
       "      <td>Brown/Black</td>\n",
       "      <td>2019-01-07</td>\n",
       "      <td>2019-02-09</td>\n",
       "      <td>33</td>\n",
       "      <td>2011-05-11</td>\n",
       "      <td>Austin (TX)</td>\n",
       "      <td>Normal</td>\n",
       "      <td>Owner Surrender</td>\n",
       "      <td>1</td>\n",
       "      <td>2.0</td>\n",
       "      <td>02/09/2019 01:14:00 PM</td>\n",
       "      <td>Jasmine</td>\n",
       "      <td>Jasmine</td>\n",
       "      <td>NaN</td>\n",
       "      <td>Adoption</td>\n",
       "      <td>Spayed Female</td>\n",
       "      <td>Spayed Female</td>\n",
       "      <td>0</td>\n",
       "      <td>5.0</td>\n",
       "      <td>2019</td>\n",
       "      <td>7.756164</td>\n",
       "      <td>Dog</td>\n",
       "      <td>0</td>\n",
       "    </tr>\n",
       "    <tr>\n",
       "      <td>133</td>\n",
       "      <td>1401 days</td>\n",
       "      <td>A787448</td>\n",
       "      <td>Dog</td>\n",
       "      <td>Labrador Retriever</td>\n",
       "      <td>Brown Tiger/White</td>\n",
       "      <td>2019-04-01</td>\n",
       "      <td>2019-11-14</td>\n",
       "      <td>227</td>\n",
       "      <td>2016-01-13</td>\n",
       "      <td>12900 Dessau in Travis (TX)</td>\n",
       "      <td>Normal</td>\n",
       "      <td>Stray</td>\n",
       "      <td>4</td>\n",
       "      <td>11.0</td>\n",
       "      <td>11/14/2019 12:59:00 PM</td>\n",
       "      <td>Watermelon</td>\n",
       "      <td>Watermelon</td>\n",
       "      <td>NaN</td>\n",
       "      <td>Adoption</td>\n",
       "      <td>Intact Female</td>\n",
       "      <td>Spayed Female</td>\n",
       "      <td>0</td>\n",
       "      <td>3.0</td>\n",
       "      <td>2019</td>\n",
       "      <td>3.838356</td>\n",
       "      <td>Dog</td>\n",
       "      <td>1</td>\n",
       "    </tr>\n",
       "    <tr>\n",
       "      <td>159</td>\n",
       "      <td>94 days</td>\n",
       "      <td>A799428</td>\n",
       "      <td>Dog</td>\n",
       "      <td>Labrador Retriever</td>\n",
       "      <td>Tan/White</td>\n",
       "      <td>2019-07-08</td>\n",
       "      <td>2019-07-12</td>\n",
       "      <td>4</td>\n",
       "      <td>2019-04-09</td>\n",
       "      <td>Austin (TX)</td>\n",
       "      <td>Normal</td>\n",
       "      <td>Stray</td>\n",
       "      <td>7</td>\n",
       "      <td>7.0</td>\n",
       "      <td>07/12/2019 06:31:00 PM</td>\n",
       "      <td>NaN</td>\n",
       "      <td>NaN</td>\n",
       "      <td>NaN</td>\n",
       "      <td>Adoption</td>\n",
       "      <td>Intact Male</td>\n",
       "      <td>Neutered Male</td>\n",
       "      <td>0</td>\n",
       "      <td>4.0</td>\n",
       "      <td>2019</td>\n",
       "      <td>0.257534</td>\n",
       "      <td>Dog</td>\n",
       "      <td>1</td>\n",
       "    </tr>\n",
       "    <tr>\n",
       "      <td>...</td>\n",
       "      <td>...</td>\n",
       "      <td>...</td>\n",
       "      <td>...</td>\n",
       "      <td>...</td>\n",
       "      <td>...</td>\n",
       "      <td>...</td>\n",
       "      <td>...</td>\n",
       "      <td>...</td>\n",
       "      <td>...</td>\n",
       "      <td>...</td>\n",
       "      <td>...</td>\n",
       "      <td>...</td>\n",
       "      <td>...</td>\n",
       "      <td>...</td>\n",
       "      <td>...</td>\n",
       "      <td>...</td>\n",
       "      <td>...</td>\n",
       "      <td>...</td>\n",
       "      <td>...</td>\n",
       "      <td>...</td>\n",
       "      <td>...</td>\n",
       "      <td>...</td>\n",
       "      <td>...</td>\n",
       "      <td>...</td>\n",
       "      <td>...</td>\n",
       "      <td>...</td>\n",
       "      <td>...</td>\n",
       "    </tr>\n",
       "    <tr>\n",
       "      <td>133327</td>\n",
       "      <td>858 days</td>\n",
       "      <td>A792640</td>\n",
       "      <td>Dog</td>\n",
       "      <td>Pit Bull</td>\n",
       "      <td>Blue/White</td>\n",
       "      <td>2019-04-13</td>\n",
       "      <td>2019-08-19</td>\n",
       "      <td>128</td>\n",
       "      <td>2017-04-13</td>\n",
       "      <td>8502 Maine Drive in Austin (TX)</td>\n",
       "      <td>Normal</td>\n",
       "      <td>Stray</td>\n",
       "      <td>4</td>\n",
       "      <td>8.0</td>\n",
       "      <td>08/19/2019 02:05:00 PM</td>\n",
       "      <td>*Lola</td>\n",
       "      <td>*Lola</td>\n",
       "      <td>NaN</td>\n",
       "      <td>Adoption</td>\n",
       "      <td>Intact Female</td>\n",
       "      <td>Spayed Female</td>\n",
       "      <td>5</td>\n",
       "      <td>0.0</td>\n",
       "      <td>2019</td>\n",
       "      <td>2.350685</td>\n",
       "      <td>Dog</td>\n",
       "      <td>1</td>\n",
       "    </tr>\n",
       "    <tr>\n",
       "      <td>133328</td>\n",
       "      <td>856 days</td>\n",
       "      <td>A792640</td>\n",
       "      <td>Dog</td>\n",
       "      <td>Pit Bull</td>\n",
       "      <td>Blue/White</td>\n",
       "      <td>2019-04-13</td>\n",
       "      <td>2019-08-17</td>\n",
       "      <td>126</td>\n",
       "      <td>2017-04-13</td>\n",
       "      <td>8502 Maine Drive in Austin (TX)</td>\n",
       "      <td>Normal</td>\n",
       "      <td>Stray</td>\n",
       "      <td>4</td>\n",
       "      <td>8.0</td>\n",
       "      <td>08/17/2019 01:39:00 PM</td>\n",
       "      <td>*Lola</td>\n",
       "      <td>*Lola</td>\n",
       "      <td>NaN</td>\n",
       "      <td>Adoption</td>\n",
       "      <td>Intact Female</td>\n",
       "      <td>Spayed Female</td>\n",
       "      <td>5</td>\n",
       "      <td>5.0</td>\n",
       "      <td>2019</td>\n",
       "      <td>2.345205</td>\n",
       "      <td>Dog</td>\n",
       "      <td>1</td>\n",
       "    </tr>\n",
       "    <tr>\n",
       "      <td>133604</td>\n",
       "      <td>65 days</td>\n",
       "      <td>A794814</td>\n",
       "      <td>Dog</td>\n",
       "      <td>Border Collie</td>\n",
       "      <td>Black</td>\n",
       "      <td>2019-05-12</td>\n",
       "      <td>2019-05-16</td>\n",
       "      <td>4</td>\n",
       "      <td>2019-03-12</td>\n",
       "      <td>4550 Mueller Boulevard in Austin (TX)</td>\n",
       "      <td>Normal</td>\n",
       "      <td>Stray</td>\n",
       "      <td>5</td>\n",
       "      <td>5.0</td>\n",
       "      <td>05/16/2019 06:03:00 PM</td>\n",
       "      <td>Thorium</td>\n",
       "      <td>Thorium</td>\n",
       "      <td>NaN</td>\n",
       "      <td>Adoption</td>\n",
       "      <td>Intact Male</td>\n",
       "      <td>Neutered Male</td>\n",
       "      <td>6</td>\n",
       "      <td>3.0</td>\n",
       "      <td>2019</td>\n",
       "      <td>0.178082</td>\n",
       "      <td>Dog</td>\n",
       "      <td>1</td>\n",
       "    </tr>\n",
       "    <tr>\n",
       "      <td>133661</td>\n",
       "      <td>144 days</td>\n",
       "      <td>A800621</td>\n",
       "      <td>Dog</td>\n",
       "      <td>Pit Bull</td>\n",
       "      <td>Red/White</td>\n",
       "      <td>2019-07-24</td>\n",
       "      <td>2019-07-31</td>\n",
       "      <td>7</td>\n",
       "      <td>2019-03-09</td>\n",
       "      <td>11417 American Mustang Loop in Manor (TX)</td>\n",
       "      <td>Normal</td>\n",
       "      <td>Stray</td>\n",
       "      <td>7</td>\n",
       "      <td>7.0</td>\n",
       "      <td>07/31/2019 03:16:00 PM</td>\n",
       "      <td>*Doobie</td>\n",
       "      <td>*Doobie</td>\n",
       "      <td>NaN</td>\n",
       "      <td>Adoption</td>\n",
       "      <td>Intact Male</td>\n",
       "      <td>Neutered Male</td>\n",
       "      <td>2</td>\n",
       "      <td>2.0</td>\n",
       "      <td>2019</td>\n",
       "      <td>0.394521</td>\n",
       "      <td>Dog</td>\n",
       "      <td>1</td>\n",
       "    </tr>\n",
       "    <tr>\n",
       "      <td>133673</td>\n",
       "      <td>249 days</td>\n",
       "      <td>A802899</td>\n",
       "      <td>Dog</td>\n",
       "      <td>Australian Cattle Dog</td>\n",
       "      <td>Tan/White</td>\n",
       "      <td>2019-08-24</td>\n",
       "      <td>2019-08-30</td>\n",
       "      <td>6</td>\n",
       "      <td>2018-12-24</td>\n",
       "      <td>Pearce Lane And Ross Road in Travis (TX)</td>\n",
       "      <td>Normal</td>\n",
       "      <td>Stray</td>\n",
       "      <td>8</td>\n",
       "      <td>8.0</td>\n",
       "      <td>08/30/2019 06:01:00 PM</td>\n",
       "      <td>Honey</td>\n",
       "      <td>Honey</td>\n",
       "      <td>NaN</td>\n",
       "      <td>Adoption</td>\n",
       "      <td>Intact Female</td>\n",
       "      <td>Spayed Female</td>\n",
       "      <td>5</td>\n",
       "      <td>4.0</td>\n",
       "      <td>2019</td>\n",
       "      <td>0.682192</td>\n",
       "      <td>Dog</td>\n",
       "      <td>1</td>\n",
       "    </tr>\n",
       "  </tbody>\n",
       "</table>\n",
       "<p>3245 rows × 27 columns</p>\n",
       "</div>"
      ],
      "text/plain": [
       "             age animal_id animal_type                  breed  \\\n",
       "22      917 days   A754715         Dog     Labrador Retriever   \n",
       "73     2801 days   A760116         Dog        German Shepherd   \n",
       "74     2831 days   A760116         Dog        German Shepherd   \n",
       "133    1401 days   A787448         Dog     Labrador Retriever   \n",
       "159      94 days   A799428         Dog     Labrador Retriever   \n",
       "...          ...       ...         ...                    ...   \n",
       "133327  858 days   A792640         Dog               Pit Bull   \n",
       "133328  856 days   A792640         Dog               Pit Bull   \n",
       "133604   65 days   A794814         Dog          Border Collie   \n",
       "133661  144 days   A800621         Dog               Pit Bull   \n",
       "133673  249 days   A802899         Dog  Australian Cattle Dog   \n",
       "\n",
       "                    color     date_i     date_o  days_in_shelter        dob  \\\n",
       "22            Black/White 2019-07-29 2019-08-15               17 2017-02-09   \n",
       "73            Brown/Black 2019-01-07 2019-01-10                3 2011-05-11   \n",
       "74            Brown/Black 2019-01-07 2019-02-09               33 2011-05-11   \n",
       "133     Brown Tiger/White 2019-04-01 2019-11-14              227 2016-01-13   \n",
       "159             Tan/White 2019-07-08 2019-07-12                4 2019-04-09   \n",
       "...                   ...        ...        ...              ...        ...   \n",
       "133327         Blue/White 2019-04-13 2019-08-19              128 2017-04-13   \n",
       "133328         Blue/White 2019-04-13 2019-08-17              126 2017-04-13   \n",
       "133604              Black 2019-05-12 2019-05-16                4 2019-03-12   \n",
       "133661          Red/White 2019-07-24 2019-07-31                7 2019-03-09   \n",
       "133673          Tan/White 2019-08-24 2019-08-30                6 2018-12-24   \n",
       "\n",
       "                                   found_location intake_condition  \\\n",
       "22                                    Austin (TX)           Normal   \n",
       "73                                    Austin (TX)           Normal   \n",
       "74                                    Austin (TX)           Normal   \n",
       "133                   12900 Dessau in Travis (TX)           Normal   \n",
       "159                                   Austin (TX)           Normal   \n",
       "...                                           ...              ...   \n",
       "133327            8502 Maine Drive in Austin (TX)           Normal   \n",
       "133328            8502 Maine Drive in Austin (TX)           Normal   \n",
       "133604      4550 Mueller Boulevard in Austin (TX)           Normal   \n",
       "133661  11417 American Mustang Loop in Manor (TX)           Normal   \n",
       "133673   Pearce Lane And Ross Road in Travis (TX)           Normal   \n",
       "\n",
       "            intake_type  month_i  month_o               monthyear name_intake  \\\n",
       "22      Owner Surrender        7      8.0  08/15/2019 01:42:00 PM       Rheia   \n",
       "73      Owner Surrender        1      1.0  01/10/2019 07:20:00 PM     Jasmine   \n",
       "74      Owner Surrender        1      2.0  02/09/2019 01:14:00 PM     Jasmine   \n",
       "133               Stray        4     11.0  11/14/2019 12:59:00 PM  Watermelon   \n",
       "159               Stray        7      7.0  07/12/2019 06:31:00 PM         NaN   \n",
       "...                 ...      ...      ...                     ...         ...   \n",
       "133327            Stray        4      8.0  08/19/2019 02:05:00 PM       *Lola   \n",
       "133328            Stray        4      8.0  08/17/2019 01:39:00 PM       *Lola   \n",
       "133604            Stray        5      5.0  05/16/2019 06:03:00 PM     Thorium   \n",
       "133661            Stray        7      7.0  07/31/2019 03:16:00 PM     *Doobie   \n",
       "133673            Stray        8      8.0  08/30/2019 06:01:00 PM       Honey   \n",
       "\n",
       "       name_outcome outcome_subtype outcome_type sex_upon_intake  \\\n",
       "22            Rheia             NaN     Adoption   Spayed Female   \n",
       "73          Jasmine             NaN     Adoption   Spayed Female   \n",
       "74          Jasmine             NaN     Adoption   Spayed Female   \n",
       "133      Watermelon             NaN     Adoption   Intact Female   \n",
       "159             NaN             NaN     Adoption     Intact Male   \n",
       "...             ...             ...          ...             ...   \n",
       "133327        *Lola             NaN     Adoption   Intact Female   \n",
       "133328        *Lola             NaN     Adoption   Intact Female   \n",
       "133604      Thorium             NaN     Adoption     Intact Male   \n",
       "133661      *Doobie             NaN     Adoption     Intact Male   \n",
       "133673        Honey             NaN     Adoption   Intact Female   \n",
       "\n",
       "       sex_upon_outcome  weekday_i  weekday_o  year  years_old species  \\\n",
       "22        Spayed Female          0        3.0  2019   2.512329     Dog   \n",
       "73        Spayed Female          0        3.0  2019   7.673973     Dog   \n",
       "74        Spayed Female          0        5.0  2019   7.756164     Dog   \n",
       "133       Spayed Female          0        3.0  2019   3.838356     Dog   \n",
       "159       Neutered Male          0        4.0  2019   0.257534     Dog   \n",
       "...                 ...        ...        ...   ...        ...     ...   \n",
       "133327    Spayed Female          5        0.0  2019   2.350685     Dog   \n",
       "133328    Spayed Female          5        5.0  2019   2.345205     Dog   \n",
       "133604    Neutered Male          6        3.0  2019   0.178082     Dog   \n",
       "133661    Neutered Male          2        2.0  2019   0.394521     Dog   \n",
       "133673    Spayed Female          5        4.0  2019   0.682192     Dog   \n",
       "\n",
       "        neutered  \n",
       "22             0  \n",
       "73             0  \n",
       "74             0  \n",
       "133            1  \n",
       "159            1  \n",
       "...          ...  \n",
       "133327         1  \n",
       "133328         1  \n",
       "133604         1  \n",
       "133661         1  \n",
       "133673         1  \n",
       "\n",
       "[3245 rows x 27 columns]"
      ]
     },
     "execution_count": 155,
     "metadata": {},
     "output_type": "execute_result"
    }
   ],
   "source": [
    "test.loc[test.breed.isin(breed_list)]"
   ]
  },
  {
   "cell_type": "code",
   "execution_count": 142,
   "metadata": {},
   "outputs": [],
   "source": [
    "import seaborn as sns#medians = df.groupby(['species'])['sepal_length'].median().values\n",
    "\n",
    "medians= test.loc[test.breed.isin(breed_list)].groupby(['breed'])[\"days_in_shelter\"].quantile(q=.75)\n",
    "                                                       \n",
    "nobs = test.loc[test.breed.isin(breed_list)][\"breed\"].value_counts().values\n",
    "nobs = [str(x) for x in nobs.tolist()]\n",
    "nobs = [\"n: \" + i for i in nobs]\n",
    "\n",
    "\n",
    "\n",
    "\n",
    "\n",
    "fig = plt.figure(figsize=(10, 5), dpi=80) \n",
    "\n",
    "# Creates one subplot within our figure and uses the classes fig and ax\n",
    "fig, ax = plt.subplots(figsize=(16, 10), dpi= 80, facecolor='w', edgecolor='k')\n",
    "chart = sns.boxplot( x=test.loc[test.breed.isin(breed_list)][\"breed\"], y=test.loc[test.breed.isin(breed_list)][\"days_in_shelter\"],color='w', showfliers=False )\n",
    "#ax.xaxis.set_major_locator()\n",
    "plt.xticks(rotation=-90)\n",
    "#ax.set_ylim(0, 100)\n",
    "# Add it to the plot\n",
    "pos = range(len(nobs))\n",
    "for tick,label in zip(pos,ax.get_xticklabels()):\n",
    "    ax.text(pos[tick], medians[tick] + 0.03, nobs[tick]\n",
    "    horizontalalignment='center', size='x-small', color='black', weight='semibold')"
   ]
  },
  {
   "cell_type": "code",
   "execution_count": 176,
   "metadata": {},
   "outputs": [
    {
     "ename": "SyntaxError",
     "evalue": "invalid syntax (<ipython-input-176-296a20a62bb9>, line 25)",
     "output_type": "error",
     "traceback": [
      "\u001b[0;36m  File \u001b[0;32m\"<ipython-input-176-296a20a62bb9>\"\u001b[0;36m, line \u001b[0;32m25\u001b[0m\n\u001b[0;31m    horizontalalignment='center', size='x-small', color='black', weight='semibold')\u001b[0m\n\u001b[0m                                                                                  ^\u001b[0m\n\u001b[0;31mSyntaxError\u001b[0m\u001b[0;31m:\u001b[0m invalid syntax\n"
     ]
    }
   ],
   "source": [
    "#medians = df.groupby(['species'])['sepal_length'].median().values\n",
    "\n",
    "medians= test.loc[test.breed.isin(breed_list)].groupby(['breed'])[\"days_in_shelter\"].quantile(q=.75)\n",
    "                                                       \n",
    "nobs = test.loc[test.breed.isin(breed_list)][\"breed\"].value_counts().values\n",
    "nobs = [str(x) for x in nobs.tolist()]\n",
    "nobs = [\"n: \" + i for i in nobs]\n",
    "\n",
    "\n",
    "\n",
    "\n",
    "\n",
    "fig = plt.figure(figsize=(10, 5), dpi=80) \n",
    "\n",
    "# Creates one subplot within our figure and uses the classes fig and ax\n",
    "fig, ax = plt.subplots(figsize=(16, 10), dpi= 80, facecolor='w', edgecolor='k')\n",
    "chart = sns.boxplot( x=test.loc[test.breed.isin(breed_list)][\"breed\"], y=test.loc[test.breed.isin(breed_list)][\"days_in_shelter\"],color='w', showfliers=False )\n",
    "#ax.xaxis.set_major_locator()\n",
    "plt.xticks(rotation=-90)\n",
    "#ax.set_ylim(0, 100)\n",
    "# Add it to the plot\n",
    "pos = range(len(nobs))\n",
    "for tick,label in zip(pos,ax.get_xticklabels()):\n",
    "    ax.text(pos[tick], medians[tick] + 0.03, nobs[tick]\n",
    "    horizontalalignment='center', size='x-small', color='black', weight='semibold')"
   ]
  },
  {
   "cell_type": "code",
   "execution_count": 160,
   "metadata": {},
   "outputs": [
    {
     "data": {
      "text/plain": [
       "(array([ 0,  1,  2,  3,  4,  5,  6,  7,  8,  9, 10, 11, 12, 13, 14]),\n",
       " <a list of 15 Text xticklabel objects>)"
      ]
     },
     "execution_count": 160,
     "metadata": {},
     "output_type": "execute_result"
    },
    {
     "data": {
      "image/png": "[encoded data removed]",
      "text/plain": [
       "<Figure size 720x360 with 1 Axes>"
      ]
     },
     "metadata": {},
     "output_type": "display_data"
    }
   ],
   "source": [
    "plt.figure(figsize=(10,5))\n",
    "chart = sns.boxplot( x=test.loc[test.breed.isin(breed_list)][\"breed\"], y=test.loc[test.breed.isin(breed_list)][\"days_in_shelter\"],color='w' )\n",
    "\n",
    "plt.xticks(\n",
    "    rotation=45, \n",
    "    horizontalalignment='right',\n",
    "    fontweight='light',\n",
    "    fontsize='x-large'  \n",
    ")\n"
   ]
  },
  {
   "cell_type": "code",
   "execution_count": 157,
   "metadata": {},
   "outputs": [
    {
     "ename": "NameError",
     "evalue": "name 'fig' is not defined",
     "output_type": "error",
     "traceback": [
      "\u001b[0;31m---------------------------------------------------------------------------\u001b[0m",
      "\u001b[0;31mNameError\u001b[0m                                 Traceback (most recent call last)",
      "\u001b[0;32m<ipython-input-157-846b587d580e>\u001b[0m in \u001b[0;36m<module>\u001b[0;34m\u001b[0m\n\u001b[1;32m      1\u001b[0m \u001b[0msns\u001b[0m\u001b[0;34m.\u001b[0m\u001b[0mboxplot\u001b[0m\u001b[0;34m(\u001b[0m \u001b[0mx\u001b[0m\u001b[0;34m=\u001b[0m\u001b[0mtest\u001b[0m\u001b[0;34m.\u001b[0m\u001b[0mloc\u001b[0m\u001b[0;34m[\u001b[0m\u001b[0mtest\u001b[0m\u001b[0;34m.\u001b[0m\u001b[0mbreed\u001b[0m\u001b[0;34m.\u001b[0m\u001b[0misin\u001b[0m\u001b[0;34m(\u001b[0m\u001b[0mbreed_list\u001b[0m\u001b[0;34m)\u001b[0m\u001b[0;34m]\u001b[0m\u001b[0;34m[\u001b[0m\u001b[0;34m\"breed\"\u001b[0m\u001b[0;34m]\u001b[0m\u001b[0;34m,\u001b[0m \u001b[0my\u001b[0m\u001b[0;34m=\u001b[0m\u001b[0mtest\u001b[0m\u001b[0;34m.\u001b[0m\u001b[0mloc\u001b[0m\u001b[0;34m[\u001b[0m\u001b[0mtest\u001b[0m\u001b[0;34m.\u001b[0m\u001b[0mbreed\u001b[0m\u001b[0;34m.\u001b[0m\u001b[0misin\u001b[0m\u001b[0;34m(\u001b[0m\u001b[0mbreed_list\u001b[0m\u001b[0;34m)\u001b[0m\u001b[0;34m]\u001b[0m\u001b[0;34m[\u001b[0m\u001b[0;34m\"days_in_shelter\"\u001b[0m\u001b[0;34m]\u001b[0m \u001b[0;34m)\u001b[0m\u001b[0;34m\u001b[0m\u001b[0;34m\u001b[0m\u001b[0m\n\u001b[0;32m----> 2\u001b[0;31m \u001b[0mfig\u001b[0m\u001b[0;34m.\u001b[0m\u001b[0mautofmt_xdate\u001b[0m\u001b[0;34m(\u001b[0m\u001b[0mwhich\u001b[0m\u001b[0;34m=\u001b[0m\u001b[0;34m'both'\u001b[0m\u001b[0;34m)\u001b[0m\u001b[0;34m\u001b[0m\u001b[0;34m\u001b[0m\u001b[0m\n\u001b[0m\u001b[1;32m      3\u001b[0m \u001b[0;34m\u001b[0m\u001b[0m\n\u001b[1;32m      4\u001b[0m \u001b[0;31m#sns.plt.show()\u001b[0m\u001b[0;34m\u001b[0m\u001b[0;34m\u001b[0m\u001b[0;34m\u001b[0m\u001b[0m\n",
      "\u001b[0;31mNameError\u001b[0m: name 'fig' is not defined"
     ]
    },
    {
     "data": {
      "image/png": "[encoded data removed]",
      "text/plain": [
       "<Figure size 1152x720 with 1 Axes>"
      ]
     },
     "metadata": {},
     "output_type": "display_data"
    }
   ],
   "source": [
    "sns.boxplot( x=test.loc[test.breed.isin(breed_list)][\"breed\"], y=test.loc[test.breed.isin(breed_list)][\"days_in_shelter\"] )\n",
    "fig.autofmt_xdate(which='both')\n",
    "\n",
    "#sns.plt.show()"
   ]
  },
  {
   "cell_type": "code",
   "execution_count": null,
   "metadata": {},
   "outputs": [],
   "source": []
  },
  {
   "cell_type": "code",
   "execution_count": null,
   "metadata": {},
   "outputs": [],
   "source": []
  },
  {
   "cell_type": "markdown",
   "metadata": {
    "slideshow": {
     "slide_type": "slide"
    }
   },
   "source": [
    "## Medical needs\n",
    "\n",
    "1. How many animals come in injured? And what happens to them?\n",
    "2. How many animals come in and over their stay get neutered?\n",
    "3. Any trends in the animals that do not get neutered?"
   ]
  },
  {
   "cell_type": "markdown",
   "metadata": {},
   "source": [
    "### Business Recommendations\n",
    "\n",
    "- neutered pets get adopted at higher rates\n",
    "- neutering workload is predictable - keep doing what you are doing\n",
    "- while infrequent, have staff be prepared for spikes in small animal care\n",
    "\n",
    "\n"
   ]
  },
  {
   "cell_type": "markdown",
   "metadata": {},
   "source": [
    "### Limitations\n",
    "\n",
    "- Missing animals that came back to the shelter more than one time during a year\n",
    "- Not examining animals still in the shelter\n",
    "- Do not know specific costs of care or current staffing of Rescue Center\n",
    "- Consistent dips in January and December might be due to how we merged the data on year, so artifical dip\n"
   ]
  },
  {
   "cell_type": "markdown",
   "metadata": {},
   "source": [
    "### Next Steps\n",
    "\n"
   ]
  },
  {
   "cell_type": "code",
   "execution_count": null,
   "metadata": {},
   "outputs": [],
   "source": []
  }
 ],
 "metadata": {
  "kernelspec": {
   "display_name": "Python 3",
   "language": "python",
   "name": "python3"
  },
  "language_info": {
   "codemirror_mode": {
    "name": "ipython",
    "version": 3
   },
   "file_extension": ".py",
   "mimetype": "text/x-python",
   "name": "python",
   "nbconvert_exporter": "python",
   "pygments_lexer": "ipython3",
   "version": "3.7.4"
  }
 },
 "nbformat": 4,
 "nbformat_minor": 4
}
