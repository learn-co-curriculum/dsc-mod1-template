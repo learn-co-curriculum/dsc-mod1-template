{
 "cells": [
  {
   "cell_type": "markdown",
   "metadata": {},
   "source": [
    "# Get them adopted\n",
    "\n",
    "![Austin-shelter](http://www.austintexas.gov/sites/default/files/aac_logo.jpg)"
   ]
  },
  {
   "cell_type": "markdown",
   "metadata": {
    "slideshow": {
     "slide_type": "slide"
    }
   },
   "source": [
    "## Business question:\n",
    "\n",
    "Austin, Texas is the largest No Kill community in the nation, and home to the Austin Animal Center. They provide shelter to more than 16,000 animals each year and animal protection and pet resource services to all of Austin and Travis County. Annually over 90% of animals entering the center, are adopted, transferred to rescue or returned to their owners.\n",
    "\n",
    "The Austin Animal Center _also_ has the longest running public dataset of animal rescues in the country. Every animal has a unique id that ties to both their [intake](https://data.austintexas.gov/Health-and-Community-Services/Austin-Animal-Center-Intakes/wter-evkm) and [outcome](https://data.austintexas.gov/Health-and-Community-Services/Austin-Animal-Center-Outcomes/9t4d-g238) data when they enter and leave the shelter. Given their data, my questions of interest were:\n",
    "\n",
    "- What animals need a PR campaign?\n",
    "- What resources does the Animal Center need?\n",
    "\n",
    "Analyzing the Austin Animal Center data to answer these questions will assist their mission an improve operations. "
   ]
  },
  {
   "cell_type": "markdown",
   "metadata": {
    "slideshow": {
     "slide_type": "slide"
    }
   },
   "source": [
    "### Defining \"Needing PR campaign\" as animals that take the longest time to get adopted, or have the fewest transfers to rescue partners.\n",
    "![img](./images/animals.png)\n",
    "\n",
    "\n",
    "### For resources, I chose to focus on factors that would impact **cost** and _staffing_:\n",
    "- breed/specialization of staff\n",
    "- funds for neutering animals\n",
    "- average stay of animals - would impact resources needed (food, cleaning, space)\n",
    "- condition of animals when they enter the shelter\n",
    "- percent of \"special needs\" animals - babies/seniors\n",
    "\n",
    "![img2](./images/pet-resource-center-og.jpg)"
   ]
  },
  {
   "cell_type": "markdown",
   "metadata": {},
   "source": [
    "### Data"
   ]
  },
  {
   "cell_type": "markdown",
   "metadata": {},
   "source": [
    "### Methods"
   ]
  },
  {
   "cell_type": "markdown",
   "metadata": {},
   "source": [
    "### Import packages and process data\n",
    "\n",
    "`data_cleaning` and `feature_engineering` are packages made to store the functions and code used to prepare the data in seperate namespaces. "
   ]
  },
  {
   "cell_type": "code",
   "execution_count": 112,
   "metadata": {},
   "outputs": [],
   "source": [
    "import pandas as pd\n",
    "import numpy as np\n",
    "import code_folder.data_cleaning as dc\n",
    "import code_folder.feature_engineering as fe\n",
    "import code_folder.visualizations_graphs as viz_g\n",
    "import code_folder.visualizations_tables as viz_t\n",
    "\n",
    "pd.options.display.max_columns = 999\n",
    "pd.options.display.max_rows = 999\n",
    "\n",
    "# %load_ext autoreload\n",
    "# %autoreload 2\n"
   ]
  },
  {
   "cell_type": "code",
   "execution_count": 3,
   "metadata": {},
   "outputs": [],
   "source": [
    "outcomes = pd.read_csv('https://data.austintexas.gov/api/views/9t4d-g238/rows.csv?accessType=DOWNLOAD')\n",
    "intakes = pd.read_csv('https://data.austintexas.gov/api/views/wter-evkm/rows.csv?accessType=DOWNLOAD')"
   ]
  },
  {
   "cell_type": "markdown",
   "metadata": {},
   "source": [
    "#### `data_cleaning`\n",
    "For each intake and outcome file, respectively addresses:\n",
    "- dates not in the correct datetime format\n",
    "- column names have mixed cases and spaces \n",
    "- an age variable that needs to be replaced\n",
    "- unnecessary columns tht can be dropped\n",
    "- create some additional date variables to help merge later\n",
    "\n",
    "Before merging the datasets to create a record for each animal's stay each year. Length of stay can then be created by comparing the intake and outcome dates."
   ]
  },
  {
   "cell_type": "code",
   "execution_count": 4,
   "metadata": {},
   "outputs": [],
   "source": [
    "outcomes = dc.prep_outcomes_file(outcomes)\n",
    "intakes = dc.prep_intakes_file(intakes)\n",
    "animal_shelter_df = dc.merge_files(intakes,outcomes)"
   ]
  },
  {
   "cell_type": "markdown",
   "metadata": {},
   "source": [
    "#### `feature_engineering`"
   ]
  },
  {
   "cell_type": "code",
   "execution_count": 5,
   "metadata": {},
   "outputs": [],
   "source": [
    "animal_shelter_df = fe.create_species_var(animal_shelter_df)\n",
    "animal_shelter_df = fe.create_neutered_var(animal_shelter_df)\n",
    "animal_shelter_df = fe.reduce_breed_list(animal_shelter_df)"
   ]
  },
  {
   "cell_type": "code",
   "execution_count": null,
   "metadata": {},
   "outputs": [],
   "source": [
    "animal_shelter_df.to_csv('./data/cleaned_animal_center_df.csv')"
   ]
  },
  {
   "cell_type": "markdown",
   "metadata": {},
   "source": [
    "##### `create_species_var`\n",
    "\n",
    "Exploritory analysis revealed that the two variables that describe the \"type\" of animal were `animal_type` and `breed`.\n",
    "\n",
    "While Cat and Dog were straight forward, \"Other\" appeared to hold a mix of species - both pets and wildlife. The snippet below also shows there is a lot of fuzzy matching within the breed variable. \"Rabbit\" and \"Guinea Pig\" each had repeat entries. I created `create_species_var` to map and aggregate the breed and intake_type to provide more insight into the types of animals the shelter services."
   ]
  },
  {
   "cell_type": "markdown",
   "metadata": {},
   "source": [
    "##### `create_neutered_var` and `reduce_breed_list`\n",
    "\n",
    " Neutering of animals at the Austin Animal Center is funded by [The City of Austin and Travis County](https://www.austintexas.gov/page/no-kill-plan), but how many neuterings are they doing a month? Is that number increasing  or decreasing? By comparing the sex of the animal at intake versus the outcome, a change in status from \"intact\" to \"neutered\" reveals the animal was neutered during their stay at the Rescue Center.\n",
    " \n",
    "The reduced_breed_list removed \"mix\" from many of the cat and dog breeds. This allowed \"Domestic Shorthair Mix\" cats to be counted along with \"Domestic Shorthair\" and the same with \"German Shepard Mix\" being count as a \"German Shepard.\""
   ]
  },
  {
   "cell_type": "markdown",
   "metadata": {
    "slideshow": {
     "slide_type": "slide"
    }
   },
   "source": [
    "#### Revisit our questions\n",
    "\n",
    "- Age of animals in shelter\n",
    "- Average animal length of stay\n",
    "- Medical staff needed"
   ]
  },
  {
   "cell_type": "markdown",
   "metadata": {},
   "source": [
    "Going to exclude livestock - only 12 and they are pigs and goats sample story animal_id = 103883, 6153 - they get transfered or partner org\n",
    "\n",
    "ducks: 72688, 51609"
   ]
  },
  {
   "cell_type": "code",
   "execution_count": 33,
   "metadata": {},
   "outputs": [],
   "source": [
    "## Creates table visualizations\n",
    "viz_t.value_counts_table(animal_shelter_df.species.value_counts().append(pd.Series(animal_shelter_df.shape[0], index=[\"Total\"])), \"Animal Intake since 2013\", \"species_i\")\n",
    "viz_t.value_counts_table(animal_shelter_df.loc[animal_shelter_df.year==2019].species.value_counts().append(pd.Series(animal_shelter_df.loc[animal_shelter_df.year==2019].shape[0], index=[\"Total\"])), \"Animal Intake since 2013\", \"intake_2019\")"
   ]
  },
  {
   "cell_type": "code",
   "execution_count": 34,
   "metadata": {},
   "outputs": [
    {
     "data": {
      "text/plain": [
       "<Figure size 1280x800 with 0 Axes>"
      ]
     },
     "metadata": {},
     "output_type": "display_data"
    },
    {
     "data": {
      "text/plain": [
       "<Figure size 1280x800 with 0 Axes>"
      ]
     },
     "metadata": {},
     "output_type": "display_data"
    },
    {
     "data": {
      "text/plain": [
       "<Figure size 1280x800 with 0 Axes>"
      ]
     },
     "metadata": {},
     "output_type": "display_data"
    },
    {
     "data": {
      "text/plain": [
       "<Figure size 1280x800 with 0 Axes>"
      ]
     },
     "metadata": {},
     "output_type": "display_data"
    }
   ],
   "source": [
    "## Creates time series graohs of intakes by animal species/type\n",
    "\n",
    "# Get intake count of cats and dogs over time\n",
    "summed_df = animal_shelter_df.loc[(animal_shelter_df['species'].str.contains(\"Dog|Cat\"))].groupby([pd.Grouper(key=\"date_i\",freq='1M'), 'species']).count()\\\n",
    "                .reset_index().pivot(index='date_i', columns='species', values='animal_id')\n",
    "viz_g.time_series_plot(summed_df,\"Seasonal Intake patterns of Cats and Dogs\",\"Date by Month\",\"Intake Count\",\"intake_cat_dog\",100)\n",
    "\n",
    "# Get intake count of wildlife over time\n",
    "summed_wildlife = animal_shelter_df.loc[(animal_shelter_df['species'].str.contains(\"Wildlife\"))].groupby([pd.Grouper(key=\"date_i\",freq='1M'), 'species']).count()\\\n",
    "                .reset_index().pivot(index='date_i', columns='species', values='animal_id')\n",
    "viz_g.time_series_plot(summed_wildlife,\"Intake patterns of Wildlife\",\"Date by Month\",\"Intake Count\",'wildlife_count',10)\n",
    "\n",
    "# Get intake count of all others over time\n",
    "summed_df_small_b = animal_shelter_df.loc[(~animal_shelter_df['species'].str.contains(\"Dog|Cat|Wildlife\"))].groupby([pd.Grouper(key=\"date_i\",freq='1M'), 'species']).count()\\\n",
    "                .reset_index().pivot(index='date_i', columns='species', values='animal_id')\n",
    "viz_g.time_series_plot(summed_df_small_b,\"Intake patterns of Animals that aren't Cats or Dogs\",\"Date by Month\",\"Intake Count\",'other_species_count',10)\n",
    "\n",
    "# Highlight history of Chickens, Rabbits, and Guinea Pigs over time\n",
    "summed_df_small_pets = animal_shelter_df.loc[(animal_shelter_df['species'].str.contains(\"Chicken|Rabbit|Guinea\"))].groupby([pd.Grouper(key=\"date_i\",freq='1M'), 'species']).count()\\\n",
    "                .reset_index().pivot(index='date_i', columns='species', values='animal_id')\n",
    "viz_g.time_series_plot(summed_df_small_pets,\"Intake History of Chickens, Rabbits, and Guinea Pigs\",\"Date by Month\",\"Intake Count\",'small_pet_count',5)"
   ]
  },
  {
   "cell_type": "code",
   "execution_count": 60,
   "metadata": {},
   "outputs": [],
   "source": [
    "test = animal_shelter_df.loc[(animal_shelter_df['species'].str.contains(\"Dog|Cat\")) & (animal_shelter_df.neutered ==1)].groupby([pd.Grouper(key=\"date_i\",freq='1M'), 'species']).count()\\\n",
    "                .reset_index().pivot(index='date_i', columns='species', values='animal_id')\n",
    "\n",
    "test.columns = ['Cat_neutered', \"Dog_neutered\"]\n",
    "\n",
    "test2 = pd.concat([summed_df, test], axis=1)\n",
    "\n",
    "test2['percent_cat'] = test2.Cat_neutered/test2.Cat\n",
    "test2['percent_dog'] = test2.Dog_neutered/test2.Dog\n",
    "test2.drop(columns = ['Cat', 'Dog', 'Cat_neutered', 'Dog_neutered'], inplace = True)\n",
    "test2.columns = ['Cat', 'Dog']\n"
   ]
  },
  {
   "cell_type": "code",
   "execution_count": 77,
   "metadata": {},
   "outputs": [
    {
     "data": {
      "text/plain": [
       "<Figure size 1280x800 with 0 Axes>"
      ]
     },
     "metadata": {},
     "output_type": "display_data"
    }
   ],
   "source": [
    "viz_g.time_series_plot_percent(test2,\"History of Percent Neutered at Intake\" ,\"Date by Month\",\"Percent Neutered\",\"neutered_over_time2\", 0.05)"
   ]
  },
  {
   "cell_type": "markdown",
   "metadata": {},
   "source": [
    "## Animal Intake Overall\n",
    "\n",
    "| ![all3](./images/species_i.png) | ![2019a](./images/intake_2019.png)"
   ]
  },
  {
   "cell_type": "markdown",
   "metadata": {},
   "source": [
    "## Animal Intake Trends\n",
    "\n",
    "![one](./images/intake_cat_dog.png) \n",
    "![two](./images/wildlife_count.png)\n",
    "![three](./images/other_species_count.png)\n",
    "\n",
    "\n",
    "### Only non-seasonal pattern\n",
    "![foura](./images/small_pet_count.png)"
   ]
  },
  {
   "cell_type": "markdown",
   "metadata": {},
   "source": [
    "## Neutering patterns\n",
    "\n",
    "![neut](./images/neutered_over_time2.png)"
   ]
  },
  {
   "cell_type": "markdown",
   "metadata": {},
   "source": [
    "## Medical Staffing needs:\n",
    "\n",
    "### Findings: \n",
    "\n",
    "### Intake Patterns:\n",
    "- The intake of cats and dogs seems to have a seasonal pattern that remains relatively constant\n",
    "- Wildlife also seems fairly seasonal, with perhaps a slight downward trend since 2017\n",
    "- For those animals who have seasonal patterns, winter is a low time for all\n",
    "- Rabbits, chickens, and guinea pigs do not appear to have a seasonal patter\n",
    "- Rabbits, chickens, and guinea pigs *do* appear to have sudden spikes\n",
    "\n",
    "### Neutering:\n",
    "- about 30-55% of cats who come in are neutered during their stay\n",
    "- about 40-55% of dogs who come in are neutered during their stay, smaller variance than cats\n",
    "\n",
    "### Comparison of Outcomes for Neutered vs Intact"
   ]
  },
  {
   "cell_type": "code",
   "execution_count": 107,
   "metadata": {},
   "outputs": [],
   "source": [
    "intact_count = animal_shelter_df.loc[(animal_shelter_df.species.str.contains(\"Dog|Cat\")) & (animal_shelter_df.sex_upon_outcome.str.contains(\"Intact\"))].outcome_type.value_counts(normalize=True).sort_index()\n",
    "intact_count.name = \"percent_intact\""
   ]
  },
  {
   "cell_type": "code",
   "execution_count": 108,
   "metadata": {},
   "outputs": [],
   "source": [
    "neutered_count = animal_shelter_df.loc[(animal_shelter_df.species.str.contains(\"Dog|Cat\"))&(animal_shelter_df.sex_upon_outcome.str.contains(\"Neutered|Spayed\"))].outcome_type.value_counts(normalize=True).sort_index()\n",
    "neutered_count.name = \"percent_neutered\""
   ]
  },
  {
   "cell_type": "code",
   "execution_count": 109,
   "metadata": {},
   "outputs": [],
   "source": [
    "compare_neuter_outcome = pd.DataFrame(data={\"intact\":intact_count,\"neutered\":neutered_count})"
   ]
  },
  {
   "cell_type": "code",
   "execution_count": 110,
   "metadata": {},
   "outputs": [
    {
     "data": {
      "text/html": [
       "<div>\n",
       "<style scoped>\n",
       "    .dataframe tbody tr th:only-of-type {\n",
       "        vertical-align: middle;\n",
       "    }\n",
       "\n",
       "    .dataframe tbody tr th {\n",
       "        vertical-align: top;\n",
       "    }\n",
       "\n",
       "    .dataframe thead th {\n",
       "        text-align: right;\n",
       "    }\n",
       "</style>\n",
       "<table border=\"1\" class=\"dataframe\">\n",
       "  <thead>\n",
       "    <tr style=\"text-align: right;\">\n",
       "      <th></th>\n",
       "      <th>intact</th>\n",
       "      <th>neutered</th>\n",
       "    </tr>\n",
       "  </thead>\n",
       "  <tbody>\n",
       "    <tr>\n",
       "      <td>Adoption</td>\n",
       "      <td>0.081870</td>\n",
       "      <td>0.643787</td>\n",
       "    </tr>\n",
       "    <tr>\n",
       "      <td>Died</td>\n",
       "      <td>0.023333</td>\n",
       "      <td>0.001901</td>\n",
       "    </tr>\n",
       "    <tr>\n",
       "      <td>Disposal</td>\n",
       "      <td>0.001274</td>\n",
       "      <td>0.000119</td>\n",
       "    </tr>\n",
       "    <tr>\n",
       "      <td>Euthanasia</td>\n",
       "      <td>0.046893</td>\n",
       "      <td>0.012500</td>\n",
       "    </tr>\n",
       "    <tr>\n",
       "      <td>Missing</td>\n",
       "      <td>0.001637</td>\n",
       "      <td>0.000277</td>\n",
       "    </tr>\n",
       "    <tr>\n",
       "      <td>Return to Owner</td>\n",
       "      <td>0.211953</td>\n",
       "      <td>0.167573</td>\n",
       "    </tr>\n",
       "    <tr>\n",
       "      <td>Rto-Adopt</td>\n",
       "      <td>0.002456</td>\n",
       "      <td>0.008316</td>\n",
       "    </tr>\n",
       "    <tr>\n",
       "      <td>Transfer</td>\n",
       "      <td>0.630583</td>\n",
       "      <td>0.165527</td>\n",
       "    </tr>\n",
       "  </tbody>\n",
       "</table>\n",
       "</div>"
      ],
      "text/plain": [
       "                   intact  neutered\n",
       "Adoption         0.081870  0.643787\n",
       "Died             0.023333  0.001901\n",
       "Disposal         0.001274  0.000119\n",
       "Euthanasia       0.046893  0.012500\n",
       "Missing          0.001637  0.000277\n",
       "Return to Owner  0.211953  0.167573\n",
       "Rto-Adopt        0.002456  0.008316\n",
       "Transfer         0.630583  0.165527"
      ]
     },
     "execution_count": 110,
     "metadata": {},
     "output_type": "execute_result"
    }
   ],
   "source": [
    "compare_neuter_outcome"
   ]
  },
  {
   "cell_type": "markdown",
   "metadata": {
    "slideshow": {
     "slide_type": "slide"
    }
   },
   "source": [
    "## Medical needs\n",
    "\n",
    "1. How many animals come in injured? And what happens to them?\n",
    "2. How many animals come in and over their stay get neutered?\n",
    "3. Any trends in the animals that do not get neutered?"
   ]
  },
  {
   "cell_type": "markdown",
   "metadata": {},
   "source": [
    "### Recommendations:\n",
    "\n"
   ]
  },
  {
   "cell_type": "markdown",
   "metadata": {},
   "source": [
    "### Business Recommendations"
   ]
  },
  {
   "cell_type": "markdown",
   "metadata": {},
   "source": [
    "### Limitations\n",
    "\n",
    "- Missing animals that came back to the shelter more than one time during a year\n",
    "- Not examining animals still in the shelter\n",
    "- Do not know specific costs of care or current staffing of Rescue Center\n",
    "- Consistent dips in January and December might be due to how we merged the data on year, so artifical dip\n"
   ]
  },
  {
   "cell_type": "markdown",
   "metadata": {},
   "source": [
    "### Next Steps\n",
    "\n"
   ]
  },
  {
   "cell_type": "code",
   "execution_count": null,
   "metadata": {},
   "outputs": [],
   "source": []
  }
 ],
 "metadata": {
  "kernelspec": {
   "display_name": "Python 3",
   "language": "python",
   "name": "python3"
  },
  "language_info": {
   "codemirror_mode": {
    "name": "ipython",
    "version": 3
   },
   "file_extension": ".py",
   "mimetype": "text/x-python",
   "name": "python",
   "nbconvert_exporter": "python",
   "pygments_lexer": "ipython3",
   "version": "3.7.4"
  }
 },
 "nbformat": 4,
 "nbformat_minor": 4
}
