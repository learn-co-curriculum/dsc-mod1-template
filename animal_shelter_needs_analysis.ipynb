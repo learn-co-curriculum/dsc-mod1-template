{
 "cells": [
  {
   "cell_type": "markdown",
   "metadata": {},
   "source": [
    "# Get them adopted\n",
    "\n",
    "![Austin-shelter](http://www.austintexas.gov/sites/default/files/aac_logo.jpg)"
   ]
  },
  {
   "cell_type": "markdown",
   "metadata": {
    "slideshow": {
     "slide_type": "slide"
    }
   },
   "source": [
    "## Business question:\n",
    "\n",
    "Austin, Texas is the largest No Kill community in the nation, and home to the Austin Animal Center. They provide shelter to more than 16,000 animals each year and animal protection and pet resource services to all of Austin and Travis County. Annually over 90% of animals entering the center, are adopted, transferred to rescue or returned to their owners.\n",
    "\n",
    "The Austin Animal Center _also_ has the longest running public dataset of animal rescues in the country. Every animal has a unique id that ties to both their [intake](https://data.austintexas.gov/Health-and-Community-Services/Austin-Animal-Center-Intakes/wter-evkm) and [outcome](https://data.austintexas.gov/Health-and-Community-Services/Austin-Animal-Center-Outcomes/9t4d-g238) data when they enter and leave the shelter. Given their data, my questions of interest were:\n",
    "\n",
    "- What animals need a PR campaign?\n",
    "- What resources does the Animal Center need?\n",
    "\n",
    "Analyzing the Austin Animal Center data to answer these questions will assist their mission an improve operations. "
   ]
  },
  {
   "cell_type": "markdown",
   "metadata": {
    "slideshow": {
     "slide_type": "slide"
    }
   },
   "source": [
    "### Defining \"Needing PR campaign\" as animals that take the longest time to get adopted, or have the fewest transfers to rescue partners.\n",
    "![img](./images/animals.png)\n",
    "\n",
    "\n",
    "### For resources, I chose to focus on factors that would impact **cost** and _staffing_:\n",
    "- breed/specialization of staff\n",
    "- funds for neutering animals\n",
    "- average stay of animals - would impact resources needed (food, cleaning, space)\n",
    "- condition of animals when they enter the shelter\n",
    "- percent of \"special needs\" animals - babies/seniors\n",
    "\n",
    "![img2](./images/pet-resource-center-og.jpg)"
   ]
  },
  {
   "cell_type": "markdown",
   "metadata": {},
   "source": [
    "### Data"
   ]
  },
  {
   "cell_type": "markdown",
   "metadata": {},
   "source": [
    "### Methods"
   ]
  },
  {
   "cell_type": "markdown",
   "metadata": {},
   "source": [
    "### Import packages and process data\n",
    "\n",
    "`data_cleaning` and `feature_engineering` are packages made to store the functions and code used to prepare the data in seperate namespaces. "
   ]
  },
  {
   "cell_type": "code",
   "execution_count": 5,
   "metadata": {},
   "outputs": [],
   "source": [
    "import pandas as pd\n",
    "import numpy as np\n",
    "import code_folder.data_cleaning as dc\n",
    "import code_folder.feature_engineering as fe\n",
    "import code_folder.visualizations as viz\n",
    "\n",
    "pd.options.display.max_columns = 999\n",
    "pd.options.display.max_rows = 999\n",
    "\n",
    "%load_ext autoreload\n",
    "%autoreload 2\n"
   ]
  },
  {
   "cell_type": "code",
   "execution_count": null,
   "metadata": {},
   "outputs": [],
   "source": [
    "outcomes = pd.read_csv('https://data.austintexas.gov/api/views/9t4d-g238/rows.csv?accessType=DOWNLOAD')\n",
    "intakes = pd.read_csv('https://data.austintexas.gov/api/views/wter-evkm/rows.csv?accessType=DOWNLOAD')"
   ]
  },
  {
   "cell_type": "markdown",
   "metadata": {},
   "source": [
    "#### `data_cleaning`\n",
    "For each intake and outcome file, respectively addresses:\n",
    "- dates not in the correct datetime format\n",
    "- column names have mixed cases and spaces \n",
    "- an age variable that needs to be replaced\n",
    "- unnecessary columns tht can be dropped\n",
    "- create some additional date variables to help merge later\n",
    "\n",
    "Before merging the datasets to create a record for each animal's stay each year. Length of stay can then be created by comparing the intake and outcome dates."
   ]
  },
  {
   "cell_type": "code",
   "execution_count": null,
   "metadata": {},
   "outputs": [],
   "source": [
    "outcomes = dc.prep_outcomes_file(outcomes)\n",
    "intakes = dc.prep_intakes_file(intakes)\n",
    "animal_shelter_df = dc.merge_files(intakes,outcomes)"
   ]
  },
  {
   "cell_type": "markdown",
   "metadata": {},
   "source": [
    "#### `feature_engineering`"
   ]
  },
  {
   "cell_type": "code",
   "execution_count": null,
   "metadata": {},
   "outputs": [],
   "source": [
    "animal_shelter_df = fe.create_species_var(animal_shelter_df)\n",
    "animal_shelter_df = fe.create_neutered_var(animal_shelter_df)\n",
    "animal_shelter_df = fe.reduce_breed_list(animal_shelter_df)"
   ]
  },
  {
   "cell_type": "code",
   "execution_count": null,
   "metadata": {},
   "outputs": [],
   "source": [
    "animal_shelter_df.to_csv('./data/cleaned_animal_center_df.csv')"
   ]
  },
  {
   "cell_type": "code",
   "execution_count": 6,
   "metadata": {},
   "outputs": [],
   "source": [
    "animal_shelter_df = pd.read_csv('./data/cleaned_animal_center_df.csv')"
   ]
  },
  {
   "cell_type": "markdown",
   "metadata": {},
   "source": [
    "##### `create_species_var`\n",
    "\n",
    "Exploritory analysis revealed that the two variables that describe the \"type\" of animal were `animal_type` and `breed`.\n",
    "\n",
    "While Cat and Dog were straight forward, \"Other\" appeared to hold a mix of species - both pets and wildlife. The snippet below also shows there is a lot of fuzzy matching within the breed variable. \"Rabbit\" and \"Guinea Pig\" each had repeat entries. I created `create_species_var` to map and aggregate the breed and intake_type to provide more insight into the types of animals the shelter services."
   ]
  },
  {
   "cell_type": "code",
   "execution_count": 7,
   "metadata": {},
   "outputs": [
    {
     "name": "stdout",
     "output_type": "stream",
     "text": [
      "(0, 0, 1024, 261)\n",
      "(1024, 261)\n"
     ]
    }
   ],
   "source": [
    "viz.value_counts_table(animal_shelter_df.animal_type.value_counts(), \"Count of Animal Type at Intake\", \"animal_type_i\")    "
   ]
  },
  {
   "cell_type": "code",
   "execution_count": null,
   "metadata": {},
   "outputs": [],
   "source": [
    "viz.value_counts_table(animal_shelter_df[animal_shelter_df.animal_type == \"Other\"].breed.value_counts()[:10], \"Short subset of breeds in Other Animal_type\", \"breeds_i\")"
   ]
  },
  {
   "cell_type": "code",
   "execution_count": null,
   "metadata": {},
   "outputs": [],
   "source": [
    "viz.value_counts_table(animal_shelter_df.species.value_counts(), \"Representative count of animal intake\", \"species_i\")"
   ]
  },
  {
   "cell_type": "markdown",
   "metadata": {},
   "source": [
    "Animal Types           |  Breeds in \"Other\"        | Robust Species Count\n",
    ":-------------------------:|:-------------------------:|:-------------------|\n",
    "![test](./images/animal_type_i.png)  |  ![](./images/breeds_i.png) | ![](./images/species_i.png)"
   ]
  },
  {
   "cell_type": "markdown",
   "metadata": {},
   "source": [
    "##### `create_neutered_var` and `reduce_breed_list`\n",
    "\n",
    " Neutering of animals at the Austin Animal Center is funded by [The City of Austin and Travis County](https://www.austintexas.gov/page/no-kill-plan), but how many neuterings are they doing a month? Is that number increasing  or decreasing? By comparing the sex of the animal at intake versus the outcome, a change in status from \"intact\" to \"neutered\" reveals the animal was neutered during their stay at the Rescue Center.\n",
    " \n",
    "The reduced_breed_list removed \"mix\" from many of the cat and dog breeds. This allowed \"Domestic Shorthair Mix\" cats to be counted along with \"Domestic Shorthair\" and the same with \"German Shepard Mix\" being count as a \"German Shepard.\""
   ]
  },
  {
   "cell_type": "code",
   "execution_count": null,
   "metadata": {},
   "outputs": [],
   "source": []
  },
  {
   "cell_type": "code",
   "execution_count": null,
   "metadata": {},
   "outputs": [],
   "source": []
  },
  {
   "cell_type": "markdown",
   "metadata": {
    "slideshow": {
     "slide_type": "slide"
    }
   },
   "source": [
    "#### Revisit our questions\n",
    "\n",
    "- Age of animals in shelter\n",
    "- Average animal length of stay\n",
    "- Medical staff needed"
   ]
  },
  {
   "cell_type": "markdown",
   "metadata": {},
   "source": [
    "Going to exclude livestock - only 12 and they are pigs and goats sample story animal_id = 103883, 6153 - they get transfered or partner org\n",
    "\n",
    "ducks: 72688, 51609"
   ]
  },
  {
   "cell_type": "code",
   "execution_count": null,
   "metadata": {},
   "outputs": [],
   "source": []
  },
  {
   "cell_type": "code",
   "execution_count": null,
   "metadata": {},
   "outputs": [],
   "source": []
  },
  {
   "cell_type": "markdown",
   "metadata": {
    "slideshow": {
     "slide_type": "slide"
    }
   },
   "source": [
    "## Medical needs\n",
    "\n",
    "1. How many animals come in injured? And what happens to them?\n",
    "2. How many animals come in and over their stay get neutered?\n",
    "3. Any trends in the animals that do not get neutered?"
   ]
  },
  {
   "cell_type": "code",
   "execution_count": null,
   "metadata": {},
   "outputs": [],
   "source": []
  },
  {
   "cell_type": "code",
   "execution_count": null,
   "metadata": {},
   "outputs": [],
   "source": []
  },
  {
   "cell_type": "markdown",
   "metadata": {},
   "source": [
    "### Final Questions:\n",
    "\n",
    "#### names\n",
    "- What are the most commonly adopted dog breed? what dog is the most common brought in?\n",
    "- What dog breeds could use a marketing campaign to get them adopted more?\n",
    "- What are the top 3 names of adopted dogs?\n",
    "- Create a graph using matplotlib that shows the difference between intake and adoption for the top 10 breeds brought into the shelter\n",
    "\n",
    "#### counts\n",
    "- create a dataset of animals that are adopted, that shows aggregated by month how many intakes, adoptions and neuterings take place. Create a matplotlib graph of this data and make a business recommendation. (**extra bonus** if you can get the aggregate level to a weekly numbers)"
   ]
  },
  {
   "cell_type": "markdown",
   "metadata": {},
   "source": [
    "### Results:\n",
    "\n",
    "- After dogs and cats, wildlife is the largest category of animals brought to the shelter\n",
    "- Intake numbers for most species appears to be seasonal, _except_ for Chickens, Rabbits, and Guinea Pigs - hard to plan for"
   ]
  },
  {
   "cell_type": "markdown",
   "metadata": {},
   "source": [
    "### Business Recommendations"
   ]
  },
  {
   "cell_type": "markdown",
   "metadata": {},
   "source": [
    "### Limitations\n",
    "\n",
    "- Missing animals that came back to the shelter more than one time during a year\n",
    "- Not examining animals still in the shelter\n",
    "- Do not know specific costs of care or current staffing of Rescue Center\n"
   ]
  },
  {
   "cell_type": "markdown",
   "metadata": {},
   "source": [
    "### Next Steps\n",
    "\n"
   ]
  },
  {
   "cell_type": "code",
   "execution_count": null,
   "metadata": {},
   "outputs": [],
   "source": []
  }
 ],
 "metadata": {
  "kernelspec": {
   "display_name": "Python 3",
   "language": "python",
   "name": "python3"
  },
  "language_info": {
   "codemirror_mode": {
    "name": "ipython",
    "version": 3
   },
   "file_extension": ".py",
   "mimetype": "text/x-python",
   "name": "python",
   "nbconvert_exporter": "python",
   "pygments_lexer": "ipython3",
   "version": "3.7.4"
  }
 },
 "nbformat": 4,
 "nbformat_minor": 4
}
